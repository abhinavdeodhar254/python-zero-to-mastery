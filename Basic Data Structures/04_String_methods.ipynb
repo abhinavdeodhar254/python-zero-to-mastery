{
 "cells": [
  {
   "cell_type": "code",
   "execution_count": 1,
   "id": "fc3f1987-e018-4b16-8bc6-805ef6bc4610",
   "metadata": {
    "editable": true,
    "slideshow": {
     "slide_type": ""
    },
    "tags": []
   },
   "outputs": [],
   "source": [
    "name=\"Abhi\""
   ]
  },
  {
   "cell_type": "code",
   "execution_count": 2,
   "id": "b228ed3e-7e5a-4b78-b7c3-5b9dc17d28e7",
   "metadata": {},
   "outputs": [],
   "source": [
    "last_letters=\"nav\""
   ]
  },
  {
   "cell_type": "code",
   "execution_count": 3,
   "id": "98dbc2ba-3767-4c8b-92b3-1958e719aeac",
   "metadata": {},
   "outputs": [],
   "source": [
    "first_name=name+last_letters"
   ]
  },
  {
   "cell_type": "code",
   "execution_count": 4,
   "id": "5eba734c-e3b8-469e-8e77-bd0ca8af8210",
   "metadata": {},
   "outputs": [
    {
     "name": "stdout",
     "output_type": "stream",
     "text": [
      "Abhinav\n"
     ]
    }
   ],
   "source": [
    "print(first_name)"
   ]
  },
  {
   "cell_type": "code",
   "execution_count": 5,
   "id": "c74254af-cdad-4c9a-a949-c204a84e2d7f",
   "metadata": {},
   "outputs": [],
   "source": [
    "#String are immutable"
   ]
  },
  {
   "cell_type": "code",
   "execution_count": 6,
   "id": "cca1af02-88bc-4522-9c94-40534c75e702",
   "metadata": {},
   "outputs": [],
   "source": [
    "x=\"Hello World\""
   ]
  },
  {
   "cell_type": "code",
   "execution_count": 7,
   "id": "57cc2579-7193-45cf-9dd5-d93c7564f267",
   "metadata": {},
   "outputs": [
    {
     "data": {
      "text/plain": [
       "'Hello World It is beautiful outside!!'"
      ]
     },
     "execution_count": 7,
     "metadata": {},
     "output_type": "execute_result"
    }
   ],
   "source": [
    "x+\" It is beautiful outside!!\""
   ]
  },
  {
   "cell_type": "code",
   "execution_count": 8,
   "id": "dd0af438-6dde-4bef-ad28-c153052240cb",
   "metadata": {},
   "outputs": [],
   "source": [
    "#this string concatination"
   ]
  },
  {
   "cell_type": "code",
   "execution_count": 9,
   "id": "7fc2f857-c087-4e2f-8753-0460aba054b4",
   "metadata": {},
   "outputs": [],
   "source": [
    "#We can also do the multiplication of strings"
   ]
  },
  {
   "cell_type": "code",
   "execution_count": 10,
   "id": "9114f813-dd61-4b80-b28a-2270280d3b9a",
   "metadata": {},
   "outputs": [],
   "source": [
    "letter=\"A\""
   ]
  },
  {
   "cell_type": "code",
   "execution_count": 11,
   "id": "8d1f5837-1ae3-4f41-a7c1-818681ae3c75",
   "metadata": {},
   "outputs": [
    {
     "data": {
      "text/plain": [
       "'AAAAAAAAAA'"
      ]
     },
     "execution_count": 11,
     "metadata": {},
     "output_type": "execute_result"
    }
   ],
   "source": [
    "letter*10"
   ]
  },
  {
   "cell_type": "code",
   "execution_count": 12,
   "id": "4536ce27-4b43-4ffe-a75c-f576e8fc017f",
   "metadata": {},
   "outputs": [],
   "source": [
    "#We will get an error if we try to concatinate number with the letters."
   ]
  },
  {
   "cell_type": "code",
   "execution_count": 13,
   "id": "649fae13-f28e-43df-9b6b-67fb09297899",
   "metadata": {},
   "outputs": [],
   "source": [
    "#we can concatinate the numbers which are passed as string"
   ]
  },
  {
   "cell_type": "code",
   "execution_count": 14,
   "id": "1e71509e-3690-409d-b49f-06f66ebd0da6",
   "metadata": {},
   "outputs": [
    {
     "data": {
      "text/plain": [
       "'23'"
      ]
     },
     "execution_count": 14,
     "metadata": {},
     "output_type": "execute_result"
    }
   ],
   "source": [
    "\"2\"+\"3\""
   ]
  },
  {
   "cell_type": "code",
   "execution_count": 15,
   "id": "1c6f0cc0-0092-4d81-909a-b4699a503154",
   "metadata": {},
   "outputs": [],
   "source": [
    "#built in methods of string"
   ]
  },
  {
   "cell_type": "code",
   "execution_count": 16,
   "id": "768cdda1-8a4e-4bcc-bfb4-88fd7bcb9c29",
   "metadata": {},
   "outputs": [],
   "source": [
    "x=\"Hello World\""
   ]
  },
  {
   "cell_type": "code",
   "execution_count": 17,
   "id": "6b433b30-0809-4d45-bdcb-279b987cd9b5",
   "metadata": {},
   "outputs": [
    {
     "data": {
      "text/plain": [
       "'HELLO WORLD'"
      ]
     },
     "execution_count": 17,
     "metadata": {},
     "output_type": "execute_result"
    }
   ],
   "source": [
    "x.upper()"
   ]
  },
  {
   "cell_type": "code",
   "execution_count": 18,
   "id": "348ab972-63a0-4520-a6a4-f2e701e52941",
   "metadata": {},
   "outputs": [],
   "source": [
    "#this is the upper function which will convert all the charecters in capital."
   ]
  },
  {
   "cell_type": "code",
   "execution_count": 22,
   "id": "1080e5ff-8590-4047-b3f9-f0ff1534fcf5",
   "metadata": {},
   "outputs": [
    {
     "data": {
      "text/plain": [
       "<function str.count>"
      ]
     },
     "execution_count": 22,
     "metadata": {},
     "output_type": "execute_result"
    }
   ],
   "source": [
    "x.count"
   ]
  },
  {
   "cell_type": "code",
   "execution_count": 23,
   "id": "ca3487b8-72c7-450a-9ffe-6eb07c713f02",
   "metadata": {},
   "outputs": [
    {
     "data": {
      "text/plain": [
       "'hello world'"
      ]
     },
     "execution_count": 23,
     "metadata": {},
     "output_type": "execute_result"
    }
   ],
   "source": [
    "x.lower()"
   ]
  },
  {
   "cell_type": "code",
   "execution_count": 24,
   "id": "9dd83d57-170e-474c-b9e2-ccd0b70df5f2",
   "metadata": {},
   "outputs": [],
   "source": [
    "#lower method will convert everything to lower case"
   ]
  },
  {
   "cell_type": "code",
   "execution_count": 25,
   "id": "7f2e2124-99c1-4bad-b16d-97914dbaaa70",
   "metadata": {},
   "outputs": [
    {
     "data": {
      "text/plain": [
       "['Hello', 'World']"
      ]
     },
     "execution_count": 25,
     "metadata": {},
     "output_type": "execute_result"
    }
   ],
   "source": [
    "x.split()"
   ]
  },
  {
   "cell_type": "code",
   "execution_count": 26,
   "id": "b3666a24-4727-455e-91eb-b45fa26048e3",
   "metadata": {},
   "outputs": [],
   "source": [
    "#here split function has splited the string based of the white space."
   ]
  },
  {
   "cell_type": "code",
   "execution_count": 32,
   "id": "b2466d5d-2d01-495e-be79-04e4b12904c1",
   "metadata": {},
   "outputs": [],
   "source": [
    "x=\"Hi, How are you\""
   ]
  },
  {
   "cell_type": "code",
   "execution_count": 33,
   "id": "1687916c-9462-4e6b-8c23-a8a758dfb6c9",
   "metadata": {},
   "outputs": [
    {
     "data": {
      "text/plain": [
       "['H', ', How are you']"
      ]
     },
     "execution_count": 33,
     "metadata": {},
     "output_type": "execute_result"
    }
   ],
   "source": [
    "x.split(\"i\")"
   ]
  },
  {
   "cell_type": "code",
   "execution_count": 34,
   "id": "256fb520-a697-4822-a537-e795a3ceddad",
   "metadata": {},
   "outputs": [],
   "source": [
    "#Here we have split the string on i"
   ]
  },
  {
   "cell_type": "code",
   "execution_count": null,
   "id": "bc8c0445-c20a-4120-85fe-4a53eb625b7f",
   "metadata": {},
   "outputs": [],
   "source": []
  }
 ],
 "metadata": {
  "kernelspec": {
   "display_name": "Python 3 (ipykernel)",
   "language": "python",
   "name": "python3"
  },
  "language_info": {
   "codemirror_mode": {
    "name": "ipython",
    "version": 3
   },
   "file_extension": ".py",
   "mimetype": "text/x-python",
   "name": "python",
   "nbconvert_exporter": "python",
   "pygments_lexer": "ipython3",
   "version": "3.13.2"
  }
 },
 "nbformat": 4,
 "nbformat_minor": 5
}
