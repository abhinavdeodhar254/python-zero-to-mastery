{
 "cells": [
  {
   "cell_type": "code",
   "execution_count": 6,
   "id": "9a7f837d-fdeb-4881-83fd-c60b560dce96",
   "metadata": {
    "editable": true,
    "slideshow": {
     "slide_type": ""
    },
    "tags": []
   },
   "outputs": [
    {
     "name": "stdout",
     "output_type": "stream",
     "text": [
      "string here something 1 then also something 2\n"
     ]
    }
   ],
   "source": [
    "#Used to concat strings in a dynamic way\n",
    "# here is the syntax as given below\n",
    "\n",
    "print(\"string here {} then also {}\".format('something 1','something 2'))\n",
    "\n",
    "# \"something1\" and \"something 2\" will get entered in those curly braces.\n",
    "#Make sure that we terminate the string entered before the .format() \n",
    "# the dot(.) in dot format is touching the string "
   ]
  },
  {
   "cell_type": "code",
   "execution_count": 10,
   "id": "9e0ff704-f893-47ec-a708-743d5f5fa6fa",
   "metadata": {},
   "outputs": [
    {
     "name": "stdout",
     "output_type": "stream",
     "text": [
      "this is the string Inserted\n"
     ]
    }
   ],
   "source": [
    "print(\"this is the string {}\".format(\"Inserted\"))"
   ]
  },
  {
   "cell_type": "code",
   "execution_count": 12,
   "id": "a955fc77-1411-42b6-89d0-11415bf7ec55",
   "metadata": {},
   "outputs": [
    {
     "name": "stdout",
     "output_type": "stream",
     "text": [
      "this are the first three campions Sam, pam, Jim!!\n"
     ]
    }
   ],
   "source": [
    "#We can also insert the string depending on the index count of the literals \n",
    "# inserted in the .format section\n",
    "\n",
    "print(\"this are the first three campions {}, {}, {}!!\".format(\"Sam\",\"pam\",\"Jim\"))"
   ]
  },
  {
   "cell_type": "code",
   "execution_count": 14,
   "id": "534615fa-b292-4b39-8790-96deb26d05a9",
   "metadata": {},
   "outputs": [],
   "source": [
    "# so by deafult the first literal entered in the .format section will occupy the first curly braces.\n",
    "# We can also give them the index and then they can enter in the respective curly braces as well"
   ]
  },
  {
   "cell_type": "code",
   "execution_count": 15,
   "id": "d057766c-2cc8-4acc-9d63-bb2cf179526b",
   "metadata": {},
   "outputs": [
    {
     "name": "stdout",
     "output_type": "stream",
     "text": [
      "The quick brown fox\n"
     ]
    }
   ],
   "source": [
    "print('The {1} {2} {0}'.format('fox','quick','brown')) \n",
    "# here inside the format section quick is at 1 index and brown is at 2 index and fox is at zero index.  "
   ]
  },
  {
   "cell_type": "code",
   "execution_count": 16,
   "id": "96692db6-2f94-43d0-9ccc-ab470db281a0",
   "metadata": {},
   "outputs": [
    {
     "name": "stdout",
     "output_type": "stream",
     "text": [
      "The quick brown fox\n"
     ]
    }
   ],
   "source": [
    "print('The {q} {b} {f}'.format(f='fox',q='quick',b='brown'))\n",
    "#we can also add them the key value pair."
   ]
  },
  {
   "cell_type": "code",
   "execution_count": 17,
   "id": "6c0abd18-1f44-4f0f-99c0-8a4c7dce70e1",
   "metadata": {},
   "outputs": [],
   "source": [
    "#here using the key value pair will make it easy to understand what is the position of the values.\n"
   ]
  },
  {
   "cell_type": "code",
   "execution_count": 18,
   "id": "97d72d14-3bc2-4123-9d36-5656f8b8bf3e",
   "metadata": {},
   "outputs": [],
   "source": [
    "#we can also work with the decimal number.\n",
    "# the syntax here is that print(\"your statement{r:width.number of decimal places}\".fomat(r='result))"
   ]
  },
  {
   "cell_type": "code",
   "execution_count": 21,
   "id": "b1398dfb-73c6-429d-ba9c-b1cfeb385dcd",
   "metadata": {},
   "outputs": [
    {
     "name": "stdout",
     "output_type": "stream",
     "text": [
      "this is my result in decimal: 1.3453\n"
     ]
    }
   ],
   "source": [
    "result=1.3453464374789345\n",
    "print(\"this is my result in decimal: {r:1.5}\".format(r=result))"
   ]
  },
  {
   "cell_type": "code",
   "execution_count": 22,
   "id": "af74881b-99dc-4ab1-bbb1-281814c1ab01",
   "metadata": {},
   "outputs": [],
   "source": [
    "#if the last digit after using formating is greater than or equal to  5 then itwill also round it off."
   ]
  },
  {
   "cell_type": "code",
   "execution_count": 23,
   "id": "d8a62edf-914f-424e-b875-7b3af950772a",
   "metadata": {},
   "outputs": [],
   "source": [
    "#three is one other way to use dotformating and that is f string it is the upgraded feature which comes in pyhton version3 and above."
   ]
  },
  {
   "cell_type": "code",
   "execution_count": 24,
   "id": "9ad2565f-edd7-44e2-9fb0-e153bec53b36",
   "metadata": {},
   "outputs": [
    {
     "name": "stdout",
     "output_type": "stream",
     "text": [
      "hello! my name is Abhinav and i am 23 years old\n"
     ]
    }
   ],
   "source": [
    "name='Abhinav'\n",
    "age=23\n",
    "print(f\"hello! my name is {name} and i am {age} years old\")"
   ]
  },
  {
   "cell_type": "code",
   "execution_count": null,
   "id": "483ae33b-0204-490e-8b1f-cdb29a96de40",
   "metadata": {},
   "outputs": [],
   "source": []
  }
 ],
 "metadata": {
  "kernelspec": {
   "display_name": "Python 3 (ipykernel)",
   "language": "python",
   "name": "python3"
  },
  "language_info": {
   "codemirror_mode": {
    "name": "ipython",
    "version": 3
   },
   "file_extension": ".py",
   "mimetype": "text/x-python",
   "name": "python",
   "nbconvert_exporter": "python",
   "pygments_lexer": "ipython3",
   "version": "3.13.2"
  }
 },
 "nbformat": 4,
 "nbformat_minor": 5
}
