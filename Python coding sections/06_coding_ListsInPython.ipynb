{
 "cells": [
  {
   "cell_type": "code",
   "execution_count": 1,
   "id": "850f58f0-a8c8-440f-9f0a-7066114e4971",
   "metadata": {
    "editable": true,
    "slideshow": {
     "slide_type": ""
    },
    "tags": []
   },
   "outputs": [],
   "source": [
    "#They are the ordered sequesnce that can hold the variety of object types."
   ]
  },
  {
   "cell_type": "code",
   "execution_count": 2,
   "id": "f51405fe-970b-434c-b629-0d6f60ffca98",
   "metadata": {},
   "outputs": [],
   "source": [
    "#they are enclosedin the square brackets and the elements are seperated by commas.\n",
    "# they also support slicing and indexing like strings"
   ]
  },
  {
   "cell_type": "code",
   "execution_count": 3,
   "id": "2c37718f-77c2-4de9-81da-7d31f6997c90",
   "metadata": {},
   "outputs": [],
   "source": [
    "my_list=[1,2,3,4,5,6]"
   ]
  },
  {
   "cell_type": "code",
   "execution_count": 4,
   "id": "16cb8629-7e31-4a51-b1c4-2588ba8beb8c",
   "metadata": {},
   "outputs": [],
   "source": [
    "# We can also create the list of mixed object types.\n",
    "# # they are very flexible with the data type that they can hold"
   ]
  },
  {
   "cell_type": "code",
   "execution_count": 6,
   "id": "0312e2d6-d304-4d03-a297-a81090172407",
   "metadata": {},
   "outputs": [],
   "source": [
    "my_list_two=[1,22.3,\"hello\"]"
   ]
  },
  {
   "cell_type": "code",
   "execution_count": 7,
   "id": "583b4815-ef68-4589-acc1-0294623071bb",
   "metadata": {},
   "outputs": [],
   "source": [
    "#thid is still a very valid list."
   ]
  },
  {
   "cell_type": "code",
   "execution_count": 8,
   "id": "6bb06a5d-431d-490a-bd91-7d1a42d0898c",
   "metadata": {},
   "outputs": [
    {
     "data": {
      "text/plain": [
       "3"
      ]
     },
     "execution_count": 8,
     "metadata": {},
     "output_type": "execute_result"
    }
   ],
   "source": [
    "len(my_list_two)"
   ]
  },
  {
   "cell_type": "code",
   "execution_count": 9,
   "id": "f3931546-a28e-46ae-88ea-7a5671f6208a",
   "metadata": {},
   "outputs": [],
   "source": [
    "# len() is the method which is used to get the length of the string\n"
   ]
  },
  {
   "cell_type": "code",
   "execution_count": 10,
   "id": "4e997c03-9968-494d-b849-f3f8e805f33b",
   "metadata": {},
   "outputs": [],
   "source": [
    "# slicing and indexing also works in the list."
   ]
  },
  {
   "cell_type": "code",
   "execution_count": 12,
   "id": "d925b7a8-3503-41a4-825b-d7781dd9e841",
   "metadata": {},
   "outputs": [
    {
     "name": "stdout",
     "output_type": "stream",
     "text": [
      "hello\n"
     ]
    }
   ],
   "source": [
    "print(my_list_two[2])"
   ]
  },
  {
   "cell_type": "code",
   "execution_count": 13,
   "id": "4ebdd891-c2b5-4f48-94ec-9d47073ce37a",
   "metadata": {},
   "outputs": [
    {
     "name": "stdout",
     "output_type": "stream",
     "text": [
      "[2, 3, 4]\n"
     ]
    }
   ],
   "source": [
    "print(my_list[1:4])"
   ]
  },
  {
   "cell_type": "code",
   "execution_count": 14,
   "id": "067b80e4-e60c-40b5-b341-cd01c227c141",
   "metadata": {},
   "outputs": [],
   "source": [
    "#We can also concatinate two lists"
   ]
  },
  {
   "cell_type": "code",
   "execution_count": 16,
   "id": "e552445b-ee5d-43e6-b0b1-ff6c4a6f74be",
   "metadata": {},
   "outputs": [
    {
     "name": "stdout",
     "output_type": "stream",
     "text": [
      "['one', 'two', 'three', 'four', 'five', 'six', 'seven', 'eight', 'nine']\n"
     ]
    }
   ],
   "source": [
    "my_list=[\"one\",\"two\",\"three\",\"four\"]\n",
    "my_list_two=[\"five\",\"six\",\"seven\",\"eight\",\"nine\"]\n",
    "my_concatinated_list=my_list+my_list_two\n",
    "print(my_concatinated_list)"
   ]
  },
  {
   "cell_type": "code",
   "execution_count": 17,
   "id": "a906d5d3-8583-4440-aa37-20eb7aaddc0d",
   "metadata": {},
   "outputs": [],
   "source": [
    " #list are mutable we can change the list elements."
   ]
  },
  {
   "cell_type": "code",
   "execution_count": 18,
   "id": "fc662e11-1d50-41f6-9a7a-53e9f0518ac9",
   "metadata": {},
   "outputs": [],
   "source": [
    "my_concatinated_list[0]=\"ONE\""
   ]
  },
  {
   "cell_type": "code",
   "execution_count": 19,
   "id": "d5c53f53-2c13-45f4-99da-0ddafb1e28ac",
   "metadata": {},
   "outputs": [
    {
     "name": "stdout",
     "output_type": "stream",
     "text": [
      "['ONE', 'two', 'three', 'four', 'five', 'six', 'seven', 'eight', 'nine']\n"
     ]
    }
   ],
   "source": [
    "print(my_concatinated_list)"
   ]
  },
  {
   "cell_type": "code",
   "execution_count": 20,
   "id": "cb613bc3-aba5-4806-843f-61ed1b01a6d7",
   "metadata": {},
   "outputs": [],
   "source": [
    "# so see we can change thelist element"
   ]
  },
  {
   "cell_type": "code",
   "execution_count": 22,
   "id": "17f412b3-3244-493e-9f68-b547ed2ebc2e",
   "metadata": {},
   "outputs": [],
   "source": [
    "# we can also add the elements to the end of the list\n",
    "# append(0) method is used to add the element to the end of the list."
   ]
  },
  {
   "cell_type": "code",
   "execution_count": 23,
   "id": "f4803975-5a11-48f7-8334-b4705867e2d5",
   "metadata": {},
   "outputs": [
    {
     "name": "stdout",
     "output_type": "stream",
     "text": [
      "['ONE', 'two', 'three', 'four', 'five', 'six', 'seven', 'eight', 'nine', 'I am  the new item']\n"
     ]
    }
   ],
   "source": [
    "my_concatinated_list.append(\"I am  the new item\")\n",
    "print(my_concatinated_list)"
   ]
  },
  {
   "cell_type": "code",
   "execution_count": 24,
   "id": "76d1cb1e-1fa8-4249-b17e-aa1ebeef88b9",
   "metadata": {},
   "outputs": [],
   "source": [
    "# # we can also remvoe the items from the list\n",
    "# pop() method is used to remove the element from the list.\n",
    "# # Everytime we use this method only the last element is going to get popped out of the list"
   ]
  },
  {
   "cell_type": "code",
   "execution_count": 25,
   "id": "0176f05d-5076-4575-8506-c0c1dbca1dec",
   "metadata": {},
   "outputs": [
    {
     "name": "stdout",
     "output_type": "stream",
     "text": [
      "['ONE', 'two', 'three', 'four', 'five', 'six', 'seven', 'eight', 'nine']\n"
     ]
    }
   ],
   "source": [
    "my_concatinated_list.pop()\n",
    "print(my_concatinated_list)"
   ]
  },
  {
   "cell_type": "code",
   "execution_count": 26,
   "id": "c76de14d-1365-4b20-9c2f-0f8c48249513",
   "metadata": {},
   "outputs": [
    {
     "name": "stdout",
     "output_type": "stream",
     "text": [
      "['ONE', 'two', 'three', 'five', 'six', 'seven', 'eight', 'nine']\n"
     ]
    }
   ],
   "source": [
    "my_concatinated_list.pop(3)\n",
    "print(my_concatinated_list)"
   ]
  },
  {
   "cell_type": "code",
   "execution_count": 27,
   "id": "0b7c8721-d681-4a16-a035-707d0eed66f4",
   "metadata": {},
   "outputs": [],
   "source": [
    "# So if we give the index number to the pop function then that respective element will also get removed.\n",
    "# here four was at the index 3 so it got removed"
   ]
  },
  {
   "cell_type": "code",
   "execution_count": 29,
   "id": "b90eaf02-e92a-4b14-925b-560b03e7d904",
   "metadata": {},
   "outputs": [
    {
     "data": {
      "text/plain": [
       "'nine'"
      ]
     },
     "execution_count": 29,
     "metadata": {},
     "output_type": "execute_result"
    }
   ],
   "source": [
    "my_concatinated_list.pop()"
   ]
  },
  {
   "cell_type": "code",
   "execution_count": 30,
   "id": "ee86418a-d659-4da2-870b-95b9c8486fd2",
   "metadata": {},
   "outputs": [],
   "source": [
    "#Here we can see that it has also returned the element that it  has popped out."
   ]
  },
  {
   "cell_type": "code",
   "execution_count": 31,
   "id": "014bcaa7-2dfb-475f-b6b6-7628b21eba25",
   "metadata": {},
   "outputs": [],
   "source": [
    "# lets save the results into the new list of popped items"
   ]
  },
  {
   "cell_type": "code",
   "execution_count": 34,
   "id": "982e462f-bb4c-4c8e-95af-16e5103e138b",
   "metadata": {},
   "outputs": [],
   "source": [
    "popped_item_list=my_concatinated_list.pop()"
   ]
  },
  {
   "cell_type": "code",
   "execution_count": 35,
   "id": "a232553b-f683-4260-8a6a-a2b6a713c4a4",
   "metadata": {},
   "outputs": [
    {
     "name": "stdout",
     "output_type": "stream",
     "text": [
      "seven\n"
     ]
    }
   ],
   "source": [
    "print(popped_item_list)"
   ]
  },
  {
   "cell_type": "code",
   "execution_count": 39,
   "id": "2025f5e5-0b44-43b6-b29a-85e50ec42140",
   "metadata": {},
   "outputs": [],
   "source": [
    "# # so here i have executed the block twice and is observed that is previously the \"eight\" element was popped but \n",
    "# when i rerun the same code thinking that it will now two popped elements in the popped item list \n",
    "# but no its not the case. \n",
    "# Everytime we run it a empty listis assigned with the popped element."
   ]
  },
  {
   "cell_type": "code",
   "execution_count": 46,
   "id": "815647ba-742c-4c3b-9c70-4fc878ac3f3f",
   "metadata": {},
   "outputs": [],
   "source": [
    "list1=['a','h','y','u','i','o','v']\n",
    "list2=[5,6,8,2,4,0,45,54]\n",
    "list1.sort()"
   ]
  },
  {
   "cell_type": "code",
   "execution_count": 47,
   "id": "49cecb2a-715e-44d3-9d10-85e91f52ee28",
   "metadata": {},
   "outputs": [
    {
     "name": "stdout",
     "output_type": "stream",
     "text": [
      "['a', 'h', 'i', 'o', 'u', 'v', 'y']\n"
     ]
    }
   ],
   "source": [
    "print(list1)"
   ]
  },
  {
   "cell_type": "code",
   "execution_count": 48,
   "id": "d6293bd7-0c17-453a-a10a-22c515fb7625",
   "metadata": {},
   "outputs": [],
   "source": [
    "# we cant assign the new  list to the sorted opertaion performed on the other list."
   ]
  },
  {
   "cell_type": "code",
   "execution_count": 49,
   "id": "c000795c-d526-4479-a6cc-baba27a5f297",
   "metadata": {},
   "outputs": [],
   "source": [
    "newlist=list1.sort()"
   ]
  },
  {
   "cell_type": "code",
   "execution_count": 51,
   "id": "e211a2dc-ba3f-425f-8dc2-fa1af6a49172",
   "metadata": {},
   "outputs": [
    {
     "name": "stdout",
     "output_type": "stream",
     "text": [
      "<class 'NoneType'>\n"
     ]
    }
   ],
   "source": [
    "print(type(newlist))"
   ]
  },
  {
   "cell_type": "code",
   "execution_count": 52,
   "id": "5bc4a0e6-d9ff-419d-93f0-b3fef5004cc0",
   "metadata": {},
   "outputs": [],
   "source": [
    "# it will say thatit is the none type"
   ]
  },
  {
   "cell_type": "code",
   "execution_count": 53,
   "id": "5428e8c3-f2da-4d9e-90e9-93d1fb16c616",
   "metadata": {},
   "outputs": [],
   "source": [
    "# what we can do is first sort the list and then assign it to the new list."
   ]
  },
  {
   "cell_type": "code",
   "execution_count": 54,
   "id": "505538cc-bd0b-43fa-8ebc-7438781a6eb0",
   "metadata": {},
   "outputs": [],
   "source": [
    "list2.sort()"
   ]
  },
  {
   "cell_type": "code",
   "execution_count": 55,
   "id": "f8ab6e63-18b9-4da9-a755-64662dcc7f8f",
   "metadata": {},
   "outputs": [
    {
     "name": "stdout",
     "output_type": "stream",
     "text": [
      "[0, 2, 4, 5, 6, 8, 45, 54]\n"
     ]
    }
   ],
   "source": [
    "mysorted_list=list2\n",
    "print(mysorted_list)"
   ]
  },
  {
   "cell_type": "code",
   "execution_count": 56,
   "id": "9a2673f3-278c-43af-8dc2-9a40c1bc0045",
   "metadata": {},
   "outputs": [],
   "source": [
    "#here we go"
   ]
  },
  {
   "cell_type": "code",
   "execution_count": 57,
   "id": "a78ae540-d27b-46b8-bc8f-2d6ba206cb7f",
   "metadata": {},
   "outputs": [
    {
     "name": "stdout",
     "output_type": "stream",
     "text": [
      "['y', 'v', 'u', 'o', 'i', 'h', 'a']\n"
     ]
    }
   ],
   "source": [
    "#we can also reverse the list using the reverse method.\n",
    "list1.reverse()\n",
    "print(list1)"
   ]
  },
  {
   "cell_type": "code",
   "execution_count": null,
   "id": "ae76b071-efb7-449c-849d-a4450235f206",
   "metadata": {},
   "outputs": [],
   "source": []
  }
 ],
 "metadata": {
  "kernelspec": {
   "display_name": "Python 3 (ipykernel)",
   "language": "python",
   "name": "python3"
  },
  "language_info": {
   "codemirror_mode": {
    "name": "ipython",
    "version": 3
   },
   "file_extension": ".py",
   "mimetype": "text/x-python",
   "name": "python",
   "nbconvert_exporter": "python",
   "pygments_lexer": "ipython3",
   "version": "3.13.2"
  }
 },
 "nbformat": 4,
 "nbformat_minor": 5
}
